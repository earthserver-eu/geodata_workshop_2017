{
 "cells": [
  {
   "cell_type": "markdown",
   "metadata": {},
   "source": [
    "<img src=\"./img/es2_logo.jpg\" align=\"right\" width=\"50%\"></img>\n",
    "<br><br><br>"
   ]
  },
  {
   "cell_type": "markdown",
   "metadata": {},
   "source": [
    "# Accessing data cubes with Python and web services"
   ]
  },
  {
   "cell_type": "markdown",
   "metadata": {},
   "source": [
    "\n",
    "Tutorial created for [GeoPython 2017](https://2017.geopython.net/) <br>\n",
    "Monday, 08 May 2017, 13:30 - 14:30 | Room 232, FHNW, Basel\n",
    "### Speakers\n",
    "Oliver Clements - Plymouth Marine Laboratory <br>\n",
    "Ramiro Marco Figuera  - Jacobs University Bremen <br>\n",
    "\n",
    "### Access to tutorial material \n",
    "\n",
    "The tutorial material can be accessed via https://jupyter.eofrom.space. <br>\n",
    "You will need to log in with your GitHub credentials.\n",
    "<br>\n",
    "\n",
    "The notebooks are also on GitHub: https://github.com/earthserver-eu/geodata_workshop_2017\n",
    "\n"
   ]
  },
  {
   "cell_type": "markdown",
   "metadata": {},
   "source": [
    "# Structure of this tutorial\n",
    "<br>\n",
    "\n",
    "|Time|Content|\n",
    "|---------|-----------|\n",
    "|13:30 -13:35 | <b>Welcome and inrtoductions</b> |\n",
    "|13:35 - 13:45 | [<b>Intro to Web Coverage Service</b>](./Intro_to_WCS.ipynb) |\n",
    "|13:45 - 13:55 | [<b>Intro to Web Coverage Processing Service</b>](./Intro_to_WCPS.ipynb) |\n",
    "|13:55 - 14:15 | [<b>Domain Examples of Service Access</b>](./Domain_examples.ipynb) |\n",
    "|14:15 - ??:?? | [<b>Exercises and Challenges</b>](./Exercises.ipynb) |\n"
   ]
  },
  {
   "cell_type": "code",
   "execution_count": null,
   "metadata": {
    "collapsed": true
   },
   "outputs": [],
   "source": []
  }
 ],
 "metadata": {
  "kernelspec": {
   "display_name": "Python 2",
   "language": "python",
   "name": "python2"
  },
  "language_info": {
   "codemirror_mode": {
    "name": "ipython",
    "version": 2
   },
   "file_extension": ".py",
   "mimetype": "text/x-python",
   "name": "python",
   "nbconvert_exporter": "python",
   "pygments_lexer": "ipython2",
   "version": "2.7.5"
  }
 },
 "nbformat": 4,
 "nbformat_minor": 2
}
