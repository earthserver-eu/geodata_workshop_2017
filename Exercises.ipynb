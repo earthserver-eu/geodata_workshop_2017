{
 "cells": [
  {
   "cell_type": "markdown",
   "metadata": {},
   "source": [
    "# Exercises"
   ]
  },
  {
   "cell_type": "markdown",
   "metadata": {
    "collapsed": true
   },
   "source": [
    "Here we suggest some science questions that you could try to answer if you want to have a play with the libraries showcased today. We are here to help you with any of the challenges or if you have your own we'd love to here them. To give you an overview of data available through our services the table below contains info on the most commonly used data."
   ]
  },
  {
   "cell_type": "markdown",
   "metadata": {},
   "source": [
    "## Ocean data - http://earthserver.pml.ac.uk/rasdaman/ows\n",
    "\n",
    "\n",
    "|coverage name|spatial coverage|temporal coverage|describecoverage URL|\n",
    "|---------|-----------|------------|------------|\n",
    "|OCCCI_V3_monthly_chlor_a|Global| \"1997-09-04T00:00:00.000Z\" to \"2015-12-01T00:00:00.000Z\"|http://earthserver.pml.ac.uk/rasdaman/ows?&SERVICE=WCS&VERSION=2.0.1&REQUEST=DescribeCoverage&COVERAGEID=OCCCI_V3_monthly_chlor_a| \n",
    "|OCCCI_V3_daily_chlor_a|Global|\"1997-09-04T00:00:00.000Z\" to \"2013-06-25T00:00:00.000Z\"|http://earthserver.pml.ac.uk/rasdaman/ows?&SERVICE=WCS&VERSION=2.0.1&REQUEST=DescribeCoverage&COVERAGEID=OCCCI_V3_daily_chlor_a"
   ]
  },
  {
   "cell_type": "markdown",
   "metadata": {},
   "source": [
    "## Climate data - http://earthserver.ecmwf.int/rasdaman/ows\n",
    "\n",
    "\n",
    "|coverage name|spatial coverage|temporal coverage|describecoverage URL|\n",
    "|---------|-----------|------------|------------|\n",
    "|temp2m|Global| \"1978-12-31T21:00:00.000Z\" to \"2016-01-13T21:00:00.000Z\"|http://earthserver.ecmwf.int/rasdaman/ows?&SERVICE=WCS&VERSION=2.0.1&REQUEST=DescribeCoverage&COVERAGEID=temp2m| \n",
    "|precipitation|Global| \"1979-01-01T21:00:00.000Z\" to \"2016-01-14T21:00:00.000Z\" | http://earthserver.ecmwf.int/rasdaman/ows?&SERVICE=WCS&VERSION=2.0.1&REQUEST=DescribeCoverage&COVERAGEID=precipitation"
   ]
  },
  {
   "cell_type": "markdown",
   "metadata": {},
   "source": [
    "## Landsat data - http://eodataservice.org/rasdaman/ows\n",
    "\n",
    "Too many coverages as they are split by landsat pass"
   ]
  },
  {
   "cell_type": "markdown",
   "metadata": {
    "collapsed": true
   },
   "source": [
    "# Ideas"
   ]
  },
  {
   "cell_type": "markdown",
   "metadata": {},
   "source": [
    " - Find the month with the highest average chlorophyll for the North Sea (53.74,2.263,56.563,8.262)\n",
    "  - traditional methods would require download of ~20GB of data, see how small you can make it \n",
    " - Calculate the annual temperature change for Basel (47.533694, 7.637539)\n",
    " - Find out whether Basel (47.533694, 7.637539) or London (51.517,-0.112) is wetter"
   ]
  },
  {
   "cell_type": "code",
   "execution_count": null,
   "metadata": {
    "collapsed": true
   },
   "outputs": [],
   "source": []
  }
 ],
 "metadata": {
  "kernelspec": {
   "display_name": "Python 2",
   "language": "python",
   "name": "python2"
  },
  "language_info": {
   "codemirror_mode": {
    "name": "ipython",
    "version": 2
   },
   "file_extension": ".py",
   "mimetype": "text/x-python",
   "name": "python",
   "nbconvert_exporter": "python",
   "pygments_lexer": "ipython2",
   "version": "2.7.5"
  }
 },
 "nbformat": 4,
 "nbformat_minor": 2
}
